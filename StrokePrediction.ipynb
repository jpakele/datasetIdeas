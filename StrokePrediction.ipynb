{
 "cells": [
  {
   "cell_type": "markdown",
   "metadata": {},
   "source": [
    "Acknowledgment to the poster of this data set. Username 'fedesoriano' from [Kaggle.com](https://www.kaggle.com/fedesoriano/stroke-prediction-dataset)"
   ]
  },
  {
   "cell_type": "markdown",
   "metadata": {},
   "source": [
    "Here is a comprehensive list of the columns in this dataset and their corresponding meanings. The following list is directly copy/pasted from the original user's post.\n",
    "\n",
    " - *id:* unique identifier\n",
    " - *gender:* \"**Male**\", \"**Female**\" or \"**Other**\"\n",
    " - *age:* age of the patient\n",
    " - *hypertension:* **0** if the patient doesn't have hypertension, **1** if the patient has hypertension\n",
    " - *heart_disease:* **0** if the patient doesn't have any heart diseases, **1** if the patient has a heart disease\n",
    " - *ever_married:* \"**No**\" or \"**Yes**\"\n",
    " - *work_type:* \"**children**\", \"**Govt_jov**\", \"**Never_worked**\", \"**Private**\" or \"**Self-employed**\"\n",
    " - *Residence_type:* \"**Rural**\" or \"**Urban**\"\n",
    " - *avg_glucose_level:* average glucose level in blood\n",
    " - *bmi:* body mass index\n",
    " - *smoking_status:* \"**formerly smoked**\", \"**never smoked**\", \"**smokes**\" or \"**Unknown**\"\n",
    " - *stroke:* **1** if the patient had a stroke or **0** if not"
   ]
  },
  {
   "cell_type": "markdown",
   "metadata": {},
   "source": [
    "*Note:* \"Unknown\" in smoking_status means that the information is unavailable for this patient"
   ]
  },
  {
   "cell_type": "code",
   "execution_count": 46,
   "metadata": {},
   "outputs": [],
   "source": [
    "import pandas as pd\n",
    "import seaborn as sns\n",
    "import numpy as np\n",
    "import category_encoders as ce\n",
    "from sklearn.preprocessing import StandardScaler, MinMaxScaler, RobustScaler\n",
    "from sklearn.model_selection import train_test_split\n",
    "from sklearn.metrics import r2_score, mean_squared_error, f1_score, plot_confusion_matrix, accuracy_score, precision_score, recall_score"
   ]
  },
  {
   "cell_type": "code",
   "execution_count": 47,
   "metadata": {
    "scrolled": true
   },
   "outputs": [
    {
     "data": {
      "text/html": [
       "<div>\n",
       "<style scoped>\n",
       "    .dataframe tbody tr th:only-of-type {\n",
       "        vertical-align: middle;\n",
       "    }\n",
       "\n",
       "    .dataframe tbody tr th {\n",
       "        vertical-align: top;\n",
       "    }\n",
       "\n",
       "    .dataframe thead th {\n",
       "        text-align: right;\n",
       "    }\n",
       "</style>\n",
       "<table border=\"1\" class=\"dataframe\">\n",
       "  <thead>\n",
       "    <tr style=\"text-align: right;\">\n",
       "      <th></th>\n",
       "      <th>id</th>\n",
       "      <th>gender</th>\n",
       "      <th>age</th>\n",
       "      <th>hypertension</th>\n",
       "      <th>heart_disease</th>\n",
       "      <th>ever_married</th>\n",
       "      <th>work_type</th>\n",
       "      <th>Residence_type</th>\n",
       "      <th>avg_glucose_level</th>\n",
       "      <th>bmi</th>\n",
       "      <th>smoking_status</th>\n",
       "      <th>stroke</th>\n",
       "    </tr>\n",
       "  </thead>\n",
       "  <tbody>\n",
       "    <tr>\n",
       "      <th>0</th>\n",
       "      <td>9046</td>\n",
       "      <td>Male</td>\n",
       "      <td>67.0</td>\n",
       "      <td>0</td>\n",
       "      <td>1</td>\n",
       "      <td>Yes</td>\n",
       "      <td>Private</td>\n",
       "      <td>Urban</td>\n",
       "      <td>228.69</td>\n",
       "      <td>36.6</td>\n",
       "      <td>formerly smoked</td>\n",
       "      <td>1</td>\n",
       "    </tr>\n",
       "    <tr>\n",
       "      <th>1</th>\n",
       "      <td>51676</td>\n",
       "      <td>Female</td>\n",
       "      <td>61.0</td>\n",
       "      <td>0</td>\n",
       "      <td>0</td>\n",
       "      <td>Yes</td>\n",
       "      <td>Self-employed</td>\n",
       "      <td>Rural</td>\n",
       "      <td>202.21</td>\n",
       "      <td>NaN</td>\n",
       "      <td>never smoked</td>\n",
       "      <td>1</td>\n",
       "    </tr>\n",
       "    <tr>\n",
       "      <th>2</th>\n",
       "      <td>31112</td>\n",
       "      <td>Male</td>\n",
       "      <td>80.0</td>\n",
       "      <td>0</td>\n",
       "      <td>1</td>\n",
       "      <td>Yes</td>\n",
       "      <td>Private</td>\n",
       "      <td>Rural</td>\n",
       "      <td>105.92</td>\n",
       "      <td>32.5</td>\n",
       "      <td>never smoked</td>\n",
       "      <td>1</td>\n",
       "    </tr>\n",
       "    <tr>\n",
       "      <th>3</th>\n",
       "      <td>60182</td>\n",
       "      <td>Female</td>\n",
       "      <td>49.0</td>\n",
       "      <td>0</td>\n",
       "      <td>0</td>\n",
       "      <td>Yes</td>\n",
       "      <td>Private</td>\n",
       "      <td>Urban</td>\n",
       "      <td>171.23</td>\n",
       "      <td>34.4</td>\n",
       "      <td>smokes</td>\n",
       "      <td>1</td>\n",
       "    </tr>\n",
       "    <tr>\n",
       "      <th>4</th>\n",
       "      <td>1665</td>\n",
       "      <td>Female</td>\n",
       "      <td>79.0</td>\n",
       "      <td>1</td>\n",
       "      <td>0</td>\n",
       "      <td>Yes</td>\n",
       "      <td>Self-employed</td>\n",
       "      <td>Rural</td>\n",
       "      <td>174.12</td>\n",
       "      <td>24.0</td>\n",
       "      <td>never smoked</td>\n",
       "      <td>1</td>\n",
       "    </tr>\n",
       "    <tr>\n",
       "      <th>...</th>\n",
       "      <td>...</td>\n",
       "      <td>...</td>\n",
       "      <td>...</td>\n",
       "      <td>...</td>\n",
       "      <td>...</td>\n",
       "      <td>...</td>\n",
       "      <td>...</td>\n",
       "      <td>...</td>\n",
       "      <td>...</td>\n",
       "      <td>...</td>\n",
       "      <td>...</td>\n",
       "      <td>...</td>\n",
       "    </tr>\n",
       "    <tr>\n",
       "      <th>5105</th>\n",
       "      <td>18234</td>\n",
       "      <td>Female</td>\n",
       "      <td>80.0</td>\n",
       "      <td>1</td>\n",
       "      <td>0</td>\n",
       "      <td>Yes</td>\n",
       "      <td>Private</td>\n",
       "      <td>Urban</td>\n",
       "      <td>83.75</td>\n",
       "      <td>NaN</td>\n",
       "      <td>never smoked</td>\n",
       "      <td>0</td>\n",
       "    </tr>\n",
       "    <tr>\n",
       "      <th>5106</th>\n",
       "      <td>44873</td>\n",
       "      <td>Female</td>\n",
       "      <td>81.0</td>\n",
       "      <td>0</td>\n",
       "      <td>0</td>\n",
       "      <td>Yes</td>\n",
       "      <td>Self-employed</td>\n",
       "      <td>Urban</td>\n",
       "      <td>125.20</td>\n",
       "      <td>40.0</td>\n",
       "      <td>never smoked</td>\n",
       "      <td>0</td>\n",
       "    </tr>\n",
       "    <tr>\n",
       "      <th>5107</th>\n",
       "      <td>19723</td>\n",
       "      <td>Female</td>\n",
       "      <td>35.0</td>\n",
       "      <td>0</td>\n",
       "      <td>0</td>\n",
       "      <td>Yes</td>\n",
       "      <td>Self-employed</td>\n",
       "      <td>Rural</td>\n",
       "      <td>82.99</td>\n",
       "      <td>30.6</td>\n",
       "      <td>never smoked</td>\n",
       "      <td>0</td>\n",
       "    </tr>\n",
       "    <tr>\n",
       "      <th>5108</th>\n",
       "      <td>37544</td>\n",
       "      <td>Male</td>\n",
       "      <td>51.0</td>\n",
       "      <td>0</td>\n",
       "      <td>0</td>\n",
       "      <td>Yes</td>\n",
       "      <td>Private</td>\n",
       "      <td>Rural</td>\n",
       "      <td>166.29</td>\n",
       "      <td>25.6</td>\n",
       "      <td>formerly smoked</td>\n",
       "      <td>0</td>\n",
       "    </tr>\n",
       "    <tr>\n",
       "      <th>5109</th>\n",
       "      <td>44679</td>\n",
       "      <td>Female</td>\n",
       "      <td>44.0</td>\n",
       "      <td>0</td>\n",
       "      <td>0</td>\n",
       "      <td>Yes</td>\n",
       "      <td>Govt_job</td>\n",
       "      <td>Urban</td>\n",
       "      <td>85.28</td>\n",
       "      <td>26.2</td>\n",
       "      <td>Unknown</td>\n",
       "      <td>0</td>\n",
       "    </tr>\n",
       "  </tbody>\n",
       "</table>\n",
       "<p>5110 rows × 12 columns</p>\n",
       "</div>"
      ],
      "text/plain": [
       "         id  gender   age  hypertension  heart_disease ever_married  \\\n",
       "0      9046    Male  67.0             0              1          Yes   \n",
       "1     51676  Female  61.0             0              0          Yes   \n",
       "2     31112    Male  80.0             0              1          Yes   \n",
       "3     60182  Female  49.0             0              0          Yes   \n",
       "4      1665  Female  79.0             1              0          Yes   \n",
       "...     ...     ...   ...           ...            ...          ...   \n",
       "5105  18234  Female  80.0             1              0          Yes   \n",
       "5106  44873  Female  81.0             0              0          Yes   \n",
       "5107  19723  Female  35.0             0              0          Yes   \n",
       "5108  37544    Male  51.0             0              0          Yes   \n",
       "5109  44679  Female  44.0             0              0          Yes   \n",
       "\n",
       "          work_type Residence_type  avg_glucose_level   bmi   smoking_status  \\\n",
       "0           Private          Urban             228.69  36.6  formerly smoked   \n",
       "1     Self-employed          Rural             202.21   NaN     never smoked   \n",
       "2           Private          Rural             105.92  32.5     never smoked   \n",
       "3           Private          Urban             171.23  34.4           smokes   \n",
       "4     Self-employed          Rural             174.12  24.0     never smoked   \n",
       "...             ...            ...                ...   ...              ...   \n",
       "5105        Private          Urban              83.75   NaN     never smoked   \n",
       "5106  Self-employed          Urban             125.20  40.0     never smoked   \n",
       "5107  Self-employed          Rural              82.99  30.6     never smoked   \n",
       "5108        Private          Rural             166.29  25.6  formerly smoked   \n",
       "5109       Govt_job          Urban              85.28  26.2          Unknown   \n",
       "\n",
       "      stroke  \n",
       "0          1  \n",
       "1          1  \n",
       "2          1  \n",
       "3          1  \n",
       "4          1  \n",
       "...      ...  \n",
       "5105       0  \n",
       "5106       0  \n",
       "5107       0  \n",
       "5108       0  \n",
       "5109       0  \n",
       "\n",
       "[5110 rows x 12 columns]"
      ]
     },
     "execution_count": 47,
     "metadata": {},
     "output_type": "execute_result"
    }
   ],
   "source": [
    "df = pd.read_csv('PredictStrokes/healthcare-dataset-stroke-data.csv')\n",
    "df"
   ]
  },
  {
   "cell_type": "code",
   "execution_count": 48,
   "metadata": {},
   "outputs": [],
   "source": [
    "#This is just to rename the columns because I don't like underscores\n",
    "df = df.rename(columns = {'heart_disease': 'heartDisease'})\n",
    "df = df.rename(columns = {'ever_married': 'everMarried'})\n",
    "df = df.rename(columns = {'work_type': 'workType'})\n",
    "df = df.rename(columns = {'Residence_type': 'residenceType'})\n",
    "df = df.rename(columns = {'avg_glucose_level': 'avgGlucoseLevel'})\n",
    "df = df.rename(columns = {'smoking_status': 'smokingStatus'})"
   ]
  },
  {
   "cell_type": "code",
   "execution_count": 49,
   "metadata": {},
   "outputs": [
    {
     "data": {
      "text/plain": [
       "5110"
      ]
     },
     "execution_count": 49,
     "metadata": {},
     "output_type": "execute_result"
    }
   ],
   "source": [
    "len(df['id'])"
   ]
  },
  {
   "cell_type": "markdown",
   "metadata": {},
   "source": [
    "## First look at the data\n",
    "First thing I noticed is that this data set seem pretty small. 5,110 records. I don't have much room to remove data so I'll need to avoid that as much as possible."
   ]
  },
  {
   "cell_type": "markdown",
   "metadata": {},
   "source": [
    "Let's check for anything that might cause problems in our data."
   ]
  },
  {
   "cell_type": "code",
   "execution_count": 50,
   "metadata": {},
   "outputs": [
    {
     "data": {
      "text/plain": [
       "id                   0\n",
       "gender               0\n",
       "age                  0\n",
       "hypertension         0\n",
       "heartDisease         0\n",
       "everMarried          0\n",
       "workType             0\n",
       "residenceType        0\n",
       "avgGlucoseLevel      0\n",
       "bmi                201\n",
       "smokingStatus        0\n",
       "stroke               0\n",
       "dtype: int64"
      ]
     },
     "execution_count": 50,
     "metadata": {},
     "output_type": "execute_result"
    }
   ],
   "source": [
    "df.isna().sum()"
   ]
  },
  {
   "cell_type": "code",
   "execution_count": 51,
   "metadata": {
    "scrolled": true
   },
   "outputs": [
    {
     "name": "stdout",
     "output_type": "stream",
     "text": [
      "<class 'pandas.core.frame.DataFrame'>\n",
      "RangeIndex: 5110 entries, 0 to 5109\n",
      "Data columns (total 12 columns):\n",
      " #   Column           Non-Null Count  Dtype  \n",
      "---  ------           --------------  -----  \n",
      " 0   id               5110 non-null   int64  \n",
      " 1   gender           5110 non-null   object \n",
      " 2   age              5110 non-null   float64\n",
      " 3   hypertension     5110 non-null   int64  \n",
      " 4   heartDisease     5110 non-null   int64  \n",
      " 5   everMarried      5110 non-null   object \n",
      " 6   workType         5110 non-null   object \n",
      " 7   residenceType    5110 non-null   object \n",
      " 8   avgGlucoseLevel  5110 non-null   float64\n",
      " 9   bmi              4909 non-null   float64\n",
      " 10  smokingStatus    5110 non-null   object \n",
      " 11  stroke           5110 non-null   int64  \n",
      "dtypes: float64(3), int64(4), object(5)\n",
      "memory usage: 479.2+ KB\n"
     ]
    }
   ],
   "source": [
    "df.info()"
   ]
  },
  {
   "cell_type": "code",
   "execution_count": 52,
   "metadata": {},
   "outputs": [
    {
     "data": {
      "text/plain": [
       "Female    2994\n",
       "Male      2115\n",
       "Other        1\n",
       "Name: gender, dtype: int64"
      ]
     },
     "execution_count": 52,
     "metadata": {},
     "output_type": "execute_result"
    }
   ],
   "source": [
    "df['gender'].value_counts()"
   ]
  },
  {
   "cell_type": "code",
   "execution_count": 53,
   "metadata": {},
   "outputs": [
    {
     "data": {
      "text/plain": [
       "Yes    3353\n",
       "No     1757\n",
       "Name: everMarried, dtype: int64"
      ]
     },
     "execution_count": 53,
     "metadata": {},
     "output_type": "execute_result"
    }
   ],
   "source": [
    "df['everMarried'].value_counts()"
   ]
  },
  {
   "cell_type": "code",
   "execution_count": 54,
   "metadata": {},
   "outputs": [
    {
     "data": {
      "text/plain": [
       "Private          2925\n",
       "Self-employed     819\n",
       "children          687\n",
       "Govt_job          657\n",
       "Never_worked       22\n",
       "Name: workType, dtype: int64"
      ]
     },
     "execution_count": 54,
     "metadata": {},
     "output_type": "execute_result"
    }
   ],
   "source": [
    "df['workType'].value_counts()"
   ]
  },
  {
   "cell_type": "code",
   "execution_count": 55,
   "metadata": {},
   "outputs": [
    {
     "data": {
      "text/plain": [
       "Urban    2596\n",
       "Rural    2514\n",
       "Name: residenceType, dtype: int64"
      ]
     },
     "execution_count": 55,
     "metadata": {},
     "output_type": "execute_result"
    }
   ],
   "source": [
    "df['residenceType'].value_counts()"
   ]
  },
  {
   "cell_type": "code",
   "execution_count": 56,
   "metadata": {
    "scrolled": true
   },
   "outputs": [
    {
     "data": {
      "text/plain": [
       "never smoked       1892\n",
       "Unknown            1544\n",
       "formerly smoked     885\n",
       "smokes              789\n",
       "Name: smokingStatus, dtype: int64"
      ]
     },
     "execution_count": 56,
     "metadata": {},
     "output_type": "execute_result"
    }
   ],
   "source": [
    "df['smokingStatus'].value_counts()"
   ]
  },
  {
   "cell_type": "code",
   "execution_count": 57,
   "metadata": {},
   "outputs": [
    {
     "name": "stdout",
     "output_type": "stream",
     "text": [
      "<class 'pandas.core.frame.DataFrame'>\n",
      "RangeIndex: 5110 entries, 0 to 5109\n",
      "Data columns (total 12 columns):\n",
      " #   Column           Non-Null Count  Dtype  \n",
      "---  ------           --------------  -----  \n",
      " 0   id               5110 non-null   int64  \n",
      " 1   gender           5110 non-null   object \n",
      " 2   age              5110 non-null   float64\n",
      " 3   hypertension     5110 non-null   int64  \n",
      " 4   heartDisease     5110 non-null   int64  \n",
      " 5   everMarried      5110 non-null   object \n",
      " 6   workType         5110 non-null   object \n",
      " 7   residenceType    5110 non-null   object \n",
      " 8   avgGlucoseLevel  5110 non-null   float64\n",
      " 9   bmi              4909 non-null   float64\n",
      " 10  smokingStatus    5110 non-null   object \n",
      " 11  stroke           5110 non-null   int64  \n",
      "dtypes: float64(3), int64(4), object(5)\n",
      "memory usage: 479.2+ KB\n"
     ]
    }
   ],
   "source": [
    "df.info()"
   ]
  },
  {
   "cell_type": "markdown",
   "metadata": {},
   "source": [
    "Here are some places where I see some problems.\n",
    " - BMI has 201 records with missing info.\n",
    " - gender, hypertension, heartDisease, everMarried, residenceType, and stroke look like their a bianary classification. Simply a 'yes' or 'no' answer. No reason we can't make it a '1' or a '0'\n",
    " - workType and smokingStatus seems to be broken up into categories. I see no reason why we couldn't use a category encoder.\n",
    " - 'id' may cause noise in our data so let's remove that column to avoid it."
   ]
  },
  {
   "cell_type": "markdown",
   "metadata": {},
   "source": [
    "## Cleaning the data\n",
    "Let's go through each one and start to solve the problems that come up, starting with dealing with the NaN values in BMI. Our records only have about 5,000 records to start with so removing 201 records is a lot of data being removed. The safest thing to do without swkeing the data is to take an average of everything in this column and fill in the NaN's with the average."
   ]
  },
  {
   "cell_type": "code",
   "execution_count": 58,
   "metadata": {},
   "outputs": [
    {
     "data": {
      "text/plain": [
       "id                 0\n",
       "gender             0\n",
       "age                0\n",
       "hypertension       0\n",
       "heartDisease       0\n",
       "everMarried        0\n",
       "workType           0\n",
       "residenceType      0\n",
       "avgGlucoseLevel    0\n",
       "bmi                0\n",
       "smokingStatus      0\n",
       "stroke             0\n",
       "dtype: int64"
      ]
     },
     "execution_count": 58,
     "metadata": {},
     "output_type": "execute_result"
    }
   ],
   "source": [
    "df = df.fillna(df.mean())\n",
    "df.isna().sum()"
   ]
  },
  {
   "cell_type": "markdown",
   "metadata": {},
   "source": [
    "Sweet. Simple and clean, like my favorite song. Next, let's deal with the columns that could be a binary answer. Since hyptertension, heartDisease, and stroke are already binary 1's and 0's we can leave them alone. Let's deal with gender and everMarried"
   ]
  },
  {
   "cell_type": "code",
   "execution_count": 59,
   "metadata": {},
   "outputs": [
    {
     "data": {
      "text/html": [
       "<div>\n",
       "<style scoped>\n",
       "    .dataframe tbody tr th:only-of-type {\n",
       "        vertical-align: middle;\n",
       "    }\n",
       "\n",
       "    .dataframe tbody tr th {\n",
       "        vertical-align: top;\n",
       "    }\n",
       "\n",
       "    .dataframe thead th {\n",
       "        text-align: right;\n",
       "    }\n",
       "</style>\n",
       "<table border=\"1\" class=\"dataframe\">\n",
       "  <thead>\n",
       "    <tr style=\"text-align: right;\">\n",
       "      <th></th>\n",
       "      <th>id</th>\n",
       "      <th>gender</th>\n",
       "      <th>age</th>\n",
       "      <th>hypertension</th>\n",
       "      <th>heartDisease</th>\n",
       "      <th>everMarried</th>\n",
       "      <th>workType</th>\n",
       "      <th>residenceType</th>\n",
       "      <th>avgGlucoseLevel</th>\n",
       "      <th>bmi</th>\n",
       "      <th>smokingStatus</th>\n",
       "      <th>stroke</th>\n",
       "    </tr>\n",
       "  </thead>\n",
       "  <tbody>\n",
       "    <tr>\n",
       "      <th>0</th>\n",
       "      <td>9046</td>\n",
       "      <td>Male</td>\n",
       "      <td>67.0</td>\n",
       "      <td>0</td>\n",
       "      <td>1</td>\n",
       "      <td>Yes</td>\n",
       "      <td>Private</td>\n",
       "      <td>Urban</td>\n",
       "      <td>228.69</td>\n",
       "      <td>36.600000</td>\n",
       "      <td>formerly smoked</td>\n",
       "      <td>1</td>\n",
       "    </tr>\n",
       "    <tr>\n",
       "      <th>1</th>\n",
       "      <td>51676</td>\n",
       "      <td>Female</td>\n",
       "      <td>61.0</td>\n",
       "      <td>0</td>\n",
       "      <td>0</td>\n",
       "      <td>Yes</td>\n",
       "      <td>Self-employed</td>\n",
       "      <td>Rural</td>\n",
       "      <td>202.21</td>\n",
       "      <td>28.893237</td>\n",
       "      <td>never smoked</td>\n",
       "      <td>1</td>\n",
       "    </tr>\n",
       "    <tr>\n",
       "      <th>2</th>\n",
       "      <td>31112</td>\n",
       "      <td>Male</td>\n",
       "      <td>80.0</td>\n",
       "      <td>0</td>\n",
       "      <td>1</td>\n",
       "      <td>Yes</td>\n",
       "      <td>Private</td>\n",
       "      <td>Rural</td>\n",
       "      <td>105.92</td>\n",
       "      <td>32.500000</td>\n",
       "      <td>never smoked</td>\n",
       "      <td>1</td>\n",
       "    </tr>\n",
       "    <tr>\n",
       "      <th>3</th>\n",
       "      <td>60182</td>\n",
       "      <td>Female</td>\n",
       "      <td>49.0</td>\n",
       "      <td>0</td>\n",
       "      <td>0</td>\n",
       "      <td>Yes</td>\n",
       "      <td>Private</td>\n",
       "      <td>Urban</td>\n",
       "      <td>171.23</td>\n",
       "      <td>34.400000</td>\n",
       "      <td>smokes</td>\n",
       "      <td>1</td>\n",
       "    </tr>\n",
       "    <tr>\n",
       "      <th>4</th>\n",
       "      <td>1665</td>\n",
       "      <td>Female</td>\n",
       "      <td>79.0</td>\n",
       "      <td>1</td>\n",
       "      <td>0</td>\n",
       "      <td>Yes</td>\n",
       "      <td>Self-employed</td>\n",
       "      <td>Rural</td>\n",
       "      <td>174.12</td>\n",
       "      <td>24.000000</td>\n",
       "      <td>never smoked</td>\n",
       "      <td>1</td>\n",
       "    </tr>\n",
       "    <tr>\n",
       "      <th>...</th>\n",
       "      <td>...</td>\n",
       "      <td>...</td>\n",
       "      <td>...</td>\n",
       "      <td>...</td>\n",
       "      <td>...</td>\n",
       "      <td>...</td>\n",
       "      <td>...</td>\n",
       "      <td>...</td>\n",
       "      <td>...</td>\n",
       "      <td>...</td>\n",
       "      <td>...</td>\n",
       "      <td>...</td>\n",
       "    </tr>\n",
       "    <tr>\n",
       "      <th>5105</th>\n",
       "      <td>18234</td>\n",
       "      <td>Female</td>\n",
       "      <td>80.0</td>\n",
       "      <td>1</td>\n",
       "      <td>0</td>\n",
       "      <td>Yes</td>\n",
       "      <td>Private</td>\n",
       "      <td>Urban</td>\n",
       "      <td>83.75</td>\n",
       "      <td>28.893237</td>\n",
       "      <td>never smoked</td>\n",
       "      <td>0</td>\n",
       "    </tr>\n",
       "    <tr>\n",
       "      <th>5106</th>\n",
       "      <td>44873</td>\n",
       "      <td>Female</td>\n",
       "      <td>81.0</td>\n",
       "      <td>0</td>\n",
       "      <td>0</td>\n",
       "      <td>Yes</td>\n",
       "      <td>Self-employed</td>\n",
       "      <td>Urban</td>\n",
       "      <td>125.20</td>\n",
       "      <td>40.000000</td>\n",
       "      <td>never smoked</td>\n",
       "      <td>0</td>\n",
       "    </tr>\n",
       "    <tr>\n",
       "      <th>5107</th>\n",
       "      <td>19723</td>\n",
       "      <td>Female</td>\n",
       "      <td>35.0</td>\n",
       "      <td>0</td>\n",
       "      <td>0</td>\n",
       "      <td>Yes</td>\n",
       "      <td>Self-employed</td>\n",
       "      <td>Rural</td>\n",
       "      <td>82.99</td>\n",
       "      <td>30.600000</td>\n",
       "      <td>never smoked</td>\n",
       "      <td>0</td>\n",
       "    </tr>\n",
       "    <tr>\n",
       "      <th>5108</th>\n",
       "      <td>37544</td>\n",
       "      <td>Male</td>\n",
       "      <td>51.0</td>\n",
       "      <td>0</td>\n",
       "      <td>0</td>\n",
       "      <td>Yes</td>\n",
       "      <td>Private</td>\n",
       "      <td>Rural</td>\n",
       "      <td>166.29</td>\n",
       "      <td>25.600000</td>\n",
       "      <td>formerly smoked</td>\n",
       "      <td>0</td>\n",
       "    </tr>\n",
       "    <tr>\n",
       "      <th>5109</th>\n",
       "      <td>44679</td>\n",
       "      <td>Female</td>\n",
       "      <td>44.0</td>\n",
       "      <td>0</td>\n",
       "      <td>0</td>\n",
       "      <td>Yes</td>\n",
       "      <td>Govt_job</td>\n",
       "      <td>Urban</td>\n",
       "      <td>85.28</td>\n",
       "      <td>26.200000</td>\n",
       "      <td>Unknown</td>\n",
       "      <td>0</td>\n",
       "    </tr>\n",
       "  </tbody>\n",
       "</table>\n",
       "<p>5110 rows × 12 columns</p>\n",
       "</div>"
      ],
      "text/plain": [
       "         id  gender   age  hypertension  heartDisease everMarried  \\\n",
       "0      9046    Male  67.0             0             1         Yes   \n",
       "1     51676  Female  61.0             0             0         Yes   \n",
       "2     31112    Male  80.0             0             1         Yes   \n",
       "3     60182  Female  49.0             0             0         Yes   \n",
       "4      1665  Female  79.0             1             0         Yes   \n",
       "...     ...     ...   ...           ...           ...         ...   \n",
       "5105  18234  Female  80.0             1             0         Yes   \n",
       "5106  44873  Female  81.0             0             0         Yes   \n",
       "5107  19723  Female  35.0             0             0         Yes   \n",
       "5108  37544    Male  51.0             0             0         Yes   \n",
       "5109  44679  Female  44.0             0             0         Yes   \n",
       "\n",
       "           workType residenceType  avgGlucoseLevel        bmi  \\\n",
       "0           Private         Urban           228.69  36.600000   \n",
       "1     Self-employed         Rural           202.21  28.893237   \n",
       "2           Private         Rural           105.92  32.500000   \n",
       "3           Private         Urban           171.23  34.400000   \n",
       "4     Self-employed         Rural           174.12  24.000000   \n",
       "...             ...           ...              ...        ...   \n",
       "5105        Private         Urban            83.75  28.893237   \n",
       "5106  Self-employed         Urban           125.20  40.000000   \n",
       "5107  Self-employed         Rural            82.99  30.600000   \n",
       "5108        Private         Rural           166.29  25.600000   \n",
       "5109       Govt_job         Urban            85.28  26.200000   \n",
       "\n",
       "        smokingStatus  stroke  \n",
       "0     formerly smoked       1  \n",
       "1        never smoked       1  \n",
       "2        never smoked       1  \n",
       "3              smokes       1  \n",
       "4        never smoked       1  \n",
       "...               ...     ...  \n",
       "5105     never smoked       0  \n",
       "5106     never smoked       0  \n",
       "5107     never smoked       0  \n",
       "5108  formerly smoked       0  \n",
       "5109          Unknown       0  \n",
       "\n",
       "[5110 rows x 12 columns]"
      ]
     },
     "execution_count": 59,
     "metadata": {},
     "output_type": "execute_result"
    }
   ],
   "source": [
    "df"
   ]
  },
  {
   "cell_type": "code",
   "execution_count": 60,
   "metadata": {},
   "outputs": [],
   "source": [
    "#These are the lists vlaues we want replaced\n",
    "genderList = ['Male', 'Female']\n",
    "marriedList = ['No', 'Yes']\n",
    "residenceList = ['Urban', 'Rural']"
   ]
  },
  {
   "cell_type": "code",
   "execution_count": 61,
   "metadata": {},
   "outputs": [],
   "source": [
    "#This function takes in a list of old values to find,\n",
    "# and the specific column name we wish to apply this function to.\n",
    "#What it returns is the modified df with the column was spcified,\n",
    "#turned into a binary classification.\n",
    "\n",
    "def makeBinary(oldList, columnName):\n",
    "    binaryList = [0, 1]\n",
    "    newVals = dict(zip(oldList, binaryList))\n",
    "    return df[columnName].replace(newVals, inplace = True)\n",
    "\n",
    "makeBinary(genderList, 'gender')"
   ]
  },
  {
   "cell_type": "code",
   "execution_count": 62,
   "metadata": {},
   "outputs": [
    {
     "data": {
      "text/plain": [
       "1        2994\n",
       "0        2115\n",
       "Other       1\n",
       "Name: gender, dtype: int64"
      ]
     },
     "execution_count": 62,
     "metadata": {},
     "output_type": "execute_result"
    }
   ],
   "source": [
    "df['gender'].value_counts()"
   ]
  },
  {
   "cell_type": "markdown",
   "metadata": {},
   "source": [
    "Shoots, almost. We missed one. Fortunately, removing one row isn't that big a deal, let's just drop them."
   ]
  },
  {
   "cell_type": "code",
   "execution_count": 63,
   "metadata": {},
   "outputs": [],
   "source": [
    "df.drop(df[df['gender'] == 'Other'].index, inplace = True)"
   ]
  },
  {
   "cell_type": "code",
   "execution_count": 64,
   "metadata": {},
   "outputs": [
    {
     "data": {
      "text/plain": [
       "1    2994\n",
       "0    2115\n",
       "Name: gender, dtype: int64"
      ]
     },
     "execution_count": 64,
     "metadata": {},
     "output_type": "execute_result"
    }
   ],
   "source": [
    "df['gender'].value_counts()"
   ]
  },
  {
   "cell_type": "markdown",
   "metadata": {},
   "source": [
    "Success! Next is married. Second verse, same as the first. We'll apply the makeBinary function to the everMarried column the same way, with the marriedList we set aside earlier."
   ]
  },
  {
   "cell_type": "code",
   "execution_count": 65,
   "metadata": {},
   "outputs": [],
   "source": [
    "makeBinary(marriedList, 'everMarried')"
   ]
  },
  {
   "cell_type": "code",
   "execution_count": 66,
   "metadata": {},
   "outputs": [
    {
     "data": {
      "text/html": [
       "<div>\n",
       "<style scoped>\n",
       "    .dataframe tbody tr th:only-of-type {\n",
       "        vertical-align: middle;\n",
       "    }\n",
       "\n",
       "    .dataframe tbody tr th {\n",
       "        vertical-align: top;\n",
       "    }\n",
       "\n",
       "    .dataframe thead th {\n",
       "        text-align: right;\n",
       "    }\n",
       "</style>\n",
       "<table border=\"1\" class=\"dataframe\">\n",
       "  <thead>\n",
       "    <tr style=\"text-align: right;\">\n",
       "      <th></th>\n",
       "      <th>id</th>\n",
       "      <th>gender</th>\n",
       "      <th>age</th>\n",
       "      <th>hypertension</th>\n",
       "      <th>heartDisease</th>\n",
       "      <th>everMarried</th>\n",
       "      <th>workType</th>\n",
       "      <th>residenceType</th>\n",
       "      <th>avgGlucoseLevel</th>\n",
       "      <th>bmi</th>\n",
       "      <th>smokingStatus</th>\n",
       "      <th>stroke</th>\n",
       "    </tr>\n",
       "  </thead>\n",
       "  <tbody>\n",
       "    <tr>\n",
       "      <th>0</th>\n",
       "      <td>9046</td>\n",
       "      <td>0</td>\n",
       "      <td>67.0</td>\n",
       "      <td>0</td>\n",
       "      <td>1</td>\n",
       "      <td>1</td>\n",
       "      <td>Private</td>\n",
       "      <td>Urban</td>\n",
       "      <td>228.69</td>\n",
       "      <td>36.600000</td>\n",
       "      <td>formerly smoked</td>\n",
       "      <td>1</td>\n",
       "    </tr>\n",
       "    <tr>\n",
       "      <th>1</th>\n",
       "      <td>51676</td>\n",
       "      <td>1</td>\n",
       "      <td>61.0</td>\n",
       "      <td>0</td>\n",
       "      <td>0</td>\n",
       "      <td>1</td>\n",
       "      <td>Self-employed</td>\n",
       "      <td>Rural</td>\n",
       "      <td>202.21</td>\n",
       "      <td>28.893237</td>\n",
       "      <td>never smoked</td>\n",
       "      <td>1</td>\n",
       "    </tr>\n",
       "    <tr>\n",
       "      <th>2</th>\n",
       "      <td>31112</td>\n",
       "      <td>0</td>\n",
       "      <td>80.0</td>\n",
       "      <td>0</td>\n",
       "      <td>1</td>\n",
       "      <td>1</td>\n",
       "      <td>Private</td>\n",
       "      <td>Rural</td>\n",
       "      <td>105.92</td>\n",
       "      <td>32.500000</td>\n",
       "      <td>never smoked</td>\n",
       "      <td>1</td>\n",
       "    </tr>\n",
       "    <tr>\n",
       "      <th>3</th>\n",
       "      <td>60182</td>\n",
       "      <td>1</td>\n",
       "      <td>49.0</td>\n",
       "      <td>0</td>\n",
       "      <td>0</td>\n",
       "      <td>1</td>\n",
       "      <td>Private</td>\n",
       "      <td>Urban</td>\n",
       "      <td>171.23</td>\n",
       "      <td>34.400000</td>\n",
       "      <td>smokes</td>\n",
       "      <td>1</td>\n",
       "    </tr>\n",
       "    <tr>\n",
       "      <th>4</th>\n",
       "      <td>1665</td>\n",
       "      <td>1</td>\n",
       "      <td>79.0</td>\n",
       "      <td>1</td>\n",
       "      <td>0</td>\n",
       "      <td>1</td>\n",
       "      <td>Self-employed</td>\n",
       "      <td>Rural</td>\n",
       "      <td>174.12</td>\n",
       "      <td>24.000000</td>\n",
       "      <td>never smoked</td>\n",
       "      <td>1</td>\n",
       "    </tr>\n",
       "    <tr>\n",
       "      <th>...</th>\n",
       "      <td>...</td>\n",
       "      <td>...</td>\n",
       "      <td>...</td>\n",
       "      <td>...</td>\n",
       "      <td>...</td>\n",
       "      <td>...</td>\n",
       "      <td>...</td>\n",
       "      <td>...</td>\n",
       "      <td>...</td>\n",
       "      <td>...</td>\n",
       "      <td>...</td>\n",
       "      <td>...</td>\n",
       "    </tr>\n",
       "    <tr>\n",
       "      <th>5105</th>\n",
       "      <td>18234</td>\n",
       "      <td>1</td>\n",
       "      <td>80.0</td>\n",
       "      <td>1</td>\n",
       "      <td>0</td>\n",
       "      <td>1</td>\n",
       "      <td>Private</td>\n",
       "      <td>Urban</td>\n",
       "      <td>83.75</td>\n",
       "      <td>28.893237</td>\n",
       "      <td>never smoked</td>\n",
       "      <td>0</td>\n",
       "    </tr>\n",
       "    <tr>\n",
       "      <th>5106</th>\n",
       "      <td>44873</td>\n",
       "      <td>1</td>\n",
       "      <td>81.0</td>\n",
       "      <td>0</td>\n",
       "      <td>0</td>\n",
       "      <td>1</td>\n",
       "      <td>Self-employed</td>\n",
       "      <td>Urban</td>\n",
       "      <td>125.20</td>\n",
       "      <td>40.000000</td>\n",
       "      <td>never smoked</td>\n",
       "      <td>0</td>\n",
       "    </tr>\n",
       "    <tr>\n",
       "      <th>5107</th>\n",
       "      <td>19723</td>\n",
       "      <td>1</td>\n",
       "      <td>35.0</td>\n",
       "      <td>0</td>\n",
       "      <td>0</td>\n",
       "      <td>1</td>\n",
       "      <td>Self-employed</td>\n",
       "      <td>Rural</td>\n",
       "      <td>82.99</td>\n",
       "      <td>30.600000</td>\n",
       "      <td>never smoked</td>\n",
       "      <td>0</td>\n",
       "    </tr>\n",
       "    <tr>\n",
       "      <th>5108</th>\n",
       "      <td>37544</td>\n",
       "      <td>0</td>\n",
       "      <td>51.0</td>\n",
       "      <td>0</td>\n",
       "      <td>0</td>\n",
       "      <td>1</td>\n",
       "      <td>Private</td>\n",
       "      <td>Rural</td>\n",
       "      <td>166.29</td>\n",
       "      <td>25.600000</td>\n",
       "      <td>formerly smoked</td>\n",
       "      <td>0</td>\n",
       "    </tr>\n",
       "    <tr>\n",
       "      <th>5109</th>\n",
       "      <td>44679</td>\n",
       "      <td>1</td>\n",
       "      <td>44.0</td>\n",
       "      <td>0</td>\n",
       "      <td>0</td>\n",
       "      <td>1</td>\n",
       "      <td>Govt_job</td>\n",
       "      <td>Urban</td>\n",
       "      <td>85.28</td>\n",
       "      <td>26.200000</td>\n",
       "      <td>Unknown</td>\n",
       "      <td>0</td>\n",
       "    </tr>\n",
       "  </tbody>\n",
       "</table>\n",
       "<p>5109 rows × 12 columns</p>\n",
       "</div>"
      ],
      "text/plain": [
       "         id gender   age  hypertension  heartDisease  everMarried  \\\n",
       "0      9046      0  67.0             0             1            1   \n",
       "1     51676      1  61.0             0             0            1   \n",
       "2     31112      0  80.0             0             1            1   \n",
       "3     60182      1  49.0             0             0            1   \n",
       "4      1665      1  79.0             1             0            1   \n",
       "...     ...    ...   ...           ...           ...          ...   \n",
       "5105  18234      1  80.0             1             0            1   \n",
       "5106  44873      1  81.0             0             0            1   \n",
       "5107  19723      1  35.0             0             0            1   \n",
       "5108  37544      0  51.0             0             0            1   \n",
       "5109  44679      1  44.0             0             0            1   \n",
       "\n",
       "           workType residenceType  avgGlucoseLevel        bmi  \\\n",
       "0           Private         Urban           228.69  36.600000   \n",
       "1     Self-employed         Rural           202.21  28.893237   \n",
       "2           Private         Rural           105.92  32.500000   \n",
       "3           Private         Urban           171.23  34.400000   \n",
       "4     Self-employed         Rural           174.12  24.000000   \n",
       "...             ...           ...              ...        ...   \n",
       "5105        Private         Urban            83.75  28.893237   \n",
       "5106  Self-employed         Urban           125.20  40.000000   \n",
       "5107  Self-employed         Rural            82.99  30.600000   \n",
       "5108        Private         Rural           166.29  25.600000   \n",
       "5109       Govt_job         Urban            85.28  26.200000   \n",
       "\n",
       "        smokingStatus  stroke  \n",
       "0     formerly smoked       1  \n",
       "1        never smoked       1  \n",
       "2        never smoked       1  \n",
       "3              smokes       1  \n",
       "4        never smoked       1  \n",
       "...               ...     ...  \n",
       "5105     never smoked       0  \n",
       "5106     never smoked       0  \n",
       "5107     never smoked       0  \n",
       "5108  formerly smoked       0  \n",
       "5109          Unknown       0  \n",
       "\n",
       "[5109 rows x 12 columns]"
      ]
     },
     "execution_count": 66,
     "metadata": {},
     "output_type": "execute_result"
    }
   ],
   "source": [
    "df"
   ]
  },
  {
   "cell_type": "code",
   "execution_count": 67,
   "metadata": {},
   "outputs": [
    {
     "data": {
      "text/plain": [
       "1    3353\n",
       "0    1756\n",
       "Name: everMarried, dtype: int64"
      ]
     },
     "execution_count": 67,
     "metadata": {},
     "output_type": "execute_result"
    }
   ],
   "source": [
    "df['everMarried'].value_counts()"
   ]
  },
  {
   "cell_type": "code",
   "execution_count": 68,
   "metadata": {},
   "outputs": [],
   "source": [
    "makeBinary(residenceList, 'residenceType')"
   ]
  },
  {
   "cell_type": "code",
   "execution_count": 69,
   "metadata": {},
   "outputs": [
    {
     "data": {
      "text/plain": [
       "0    2596\n",
       "1    2513\n",
       "Name: residenceType, dtype: int64"
      ]
     },
     "execution_count": 69,
     "metadata": {},
     "output_type": "execute_result"
    }
   ],
   "source": [
    "df['residenceType'].value_counts()"
   ]
  },
  {
   "cell_type": "markdown",
   "metadata": {},
   "source": [
    "Success again! Lastly, let's drop 'id' and let's move on to starting our model!"
   ]
  },
  {
   "cell_type": "code",
   "execution_count": 70,
   "metadata": {},
   "outputs": [],
   "source": [
    "df = df.drop(['id'], axis = 1)"
   ]
  },
  {
   "cell_type": "markdown",
   "metadata": {},
   "source": [
    "# Step 1: Testing different model types\n",
    "In this section we'll test and fit a number of different models onto our data to see which one's make the most sense and give us the best predictions in our results. We're not just looking at how good our scores are but how accurate our models are from the start."
   ]
  },
  {
   "cell_type": "markdown",
   "metadata": {},
   "source": [
    "**Note:** When we start to look at our model, 0's will represent a \"No\" meaning \"This patient has *not* had a stroke before.\"\n",
    "\n",
    "1's will represent \"Yes\" meaning \"This patient *has* had a stroke before."
   ]
  },
  {
   "cell_type": "code",
   "execution_count": 71,
   "metadata": {},
   "outputs": [
    {
     "data": {
      "text/html": [
       "<div>\n",
       "<style scoped>\n",
       "    .dataframe tbody tr th:only-of-type {\n",
       "        vertical-align: middle;\n",
       "    }\n",
       "\n",
       "    .dataframe tbody tr th {\n",
       "        vertical-align: top;\n",
       "    }\n",
       "\n",
       "    .dataframe thead th {\n",
       "        text-align: right;\n",
       "    }\n",
       "</style>\n",
       "<table border=\"1\" class=\"dataframe\">\n",
       "  <thead>\n",
       "    <tr style=\"text-align: right;\">\n",
       "      <th></th>\n",
       "      <th>gender</th>\n",
       "      <th>age</th>\n",
       "      <th>hypertension</th>\n",
       "      <th>heartDisease</th>\n",
       "      <th>everMarried</th>\n",
       "      <th>workType</th>\n",
       "      <th>residenceType</th>\n",
       "      <th>avgGlucoseLevel</th>\n",
       "      <th>bmi</th>\n",
       "      <th>smokingStatus</th>\n",
       "      <th>stroke</th>\n",
       "    </tr>\n",
       "  </thead>\n",
       "  <tbody>\n",
       "    <tr>\n",
       "      <th>0</th>\n",
       "      <td>0</td>\n",
       "      <td>67.0</td>\n",
       "      <td>0</td>\n",
       "      <td>1</td>\n",
       "      <td>1</td>\n",
       "      <td>Private</td>\n",
       "      <td>0</td>\n",
       "      <td>228.69</td>\n",
       "      <td>36.600000</td>\n",
       "      <td>formerly smoked</td>\n",
       "      <td>1</td>\n",
       "    </tr>\n",
       "    <tr>\n",
       "      <th>1</th>\n",
       "      <td>1</td>\n",
       "      <td>61.0</td>\n",
       "      <td>0</td>\n",
       "      <td>0</td>\n",
       "      <td>1</td>\n",
       "      <td>Self-employed</td>\n",
       "      <td>1</td>\n",
       "      <td>202.21</td>\n",
       "      <td>28.893237</td>\n",
       "      <td>never smoked</td>\n",
       "      <td>1</td>\n",
       "    </tr>\n",
       "    <tr>\n",
       "      <th>2</th>\n",
       "      <td>0</td>\n",
       "      <td>80.0</td>\n",
       "      <td>0</td>\n",
       "      <td>1</td>\n",
       "      <td>1</td>\n",
       "      <td>Private</td>\n",
       "      <td>1</td>\n",
       "      <td>105.92</td>\n",
       "      <td>32.500000</td>\n",
       "      <td>never smoked</td>\n",
       "      <td>1</td>\n",
       "    </tr>\n",
       "    <tr>\n",
       "      <th>3</th>\n",
       "      <td>1</td>\n",
       "      <td>49.0</td>\n",
       "      <td>0</td>\n",
       "      <td>0</td>\n",
       "      <td>1</td>\n",
       "      <td>Private</td>\n",
       "      <td>0</td>\n",
       "      <td>171.23</td>\n",
       "      <td>34.400000</td>\n",
       "      <td>smokes</td>\n",
       "      <td>1</td>\n",
       "    </tr>\n",
       "    <tr>\n",
       "      <th>4</th>\n",
       "      <td>1</td>\n",
       "      <td>79.0</td>\n",
       "      <td>1</td>\n",
       "      <td>0</td>\n",
       "      <td>1</td>\n",
       "      <td>Self-employed</td>\n",
       "      <td>1</td>\n",
       "      <td>174.12</td>\n",
       "      <td>24.000000</td>\n",
       "      <td>never smoked</td>\n",
       "      <td>1</td>\n",
       "    </tr>\n",
       "    <tr>\n",
       "      <th>...</th>\n",
       "      <td>...</td>\n",
       "      <td>...</td>\n",
       "      <td>...</td>\n",
       "      <td>...</td>\n",
       "      <td>...</td>\n",
       "      <td>...</td>\n",
       "      <td>...</td>\n",
       "      <td>...</td>\n",
       "      <td>...</td>\n",
       "      <td>...</td>\n",
       "      <td>...</td>\n",
       "    </tr>\n",
       "    <tr>\n",
       "      <th>5105</th>\n",
       "      <td>1</td>\n",
       "      <td>80.0</td>\n",
       "      <td>1</td>\n",
       "      <td>0</td>\n",
       "      <td>1</td>\n",
       "      <td>Private</td>\n",
       "      <td>0</td>\n",
       "      <td>83.75</td>\n",
       "      <td>28.893237</td>\n",
       "      <td>never smoked</td>\n",
       "      <td>0</td>\n",
       "    </tr>\n",
       "    <tr>\n",
       "      <th>5106</th>\n",
       "      <td>1</td>\n",
       "      <td>81.0</td>\n",
       "      <td>0</td>\n",
       "      <td>0</td>\n",
       "      <td>1</td>\n",
       "      <td>Self-employed</td>\n",
       "      <td>0</td>\n",
       "      <td>125.20</td>\n",
       "      <td>40.000000</td>\n",
       "      <td>never smoked</td>\n",
       "      <td>0</td>\n",
       "    </tr>\n",
       "    <tr>\n",
       "      <th>5107</th>\n",
       "      <td>1</td>\n",
       "      <td>35.0</td>\n",
       "      <td>0</td>\n",
       "      <td>0</td>\n",
       "      <td>1</td>\n",
       "      <td>Self-employed</td>\n",
       "      <td>1</td>\n",
       "      <td>82.99</td>\n",
       "      <td>30.600000</td>\n",
       "      <td>never smoked</td>\n",
       "      <td>0</td>\n",
       "    </tr>\n",
       "    <tr>\n",
       "      <th>5108</th>\n",
       "      <td>0</td>\n",
       "      <td>51.0</td>\n",
       "      <td>0</td>\n",
       "      <td>0</td>\n",
       "      <td>1</td>\n",
       "      <td>Private</td>\n",
       "      <td>1</td>\n",
       "      <td>166.29</td>\n",
       "      <td>25.600000</td>\n",
       "      <td>formerly smoked</td>\n",
       "      <td>0</td>\n",
       "    </tr>\n",
       "    <tr>\n",
       "      <th>5109</th>\n",
       "      <td>1</td>\n",
       "      <td>44.0</td>\n",
       "      <td>0</td>\n",
       "      <td>0</td>\n",
       "      <td>1</td>\n",
       "      <td>Govt_job</td>\n",
       "      <td>0</td>\n",
       "      <td>85.28</td>\n",
       "      <td>26.200000</td>\n",
       "      <td>Unknown</td>\n",
       "      <td>0</td>\n",
       "    </tr>\n",
       "  </tbody>\n",
       "</table>\n",
       "<p>5109 rows × 11 columns</p>\n",
       "</div>"
      ],
      "text/plain": [
       "     gender   age  hypertension  heartDisease  everMarried       workType  \\\n",
       "0         0  67.0             0             1            1        Private   \n",
       "1         1  61.0             0             0            1  Self-employed   \n",
       "2         0  80.0             0             1            1        Private   \n",
       "3         1  49.0             0             0            1        Private   \n",
       "4         1  79.0             1             0            1  Self-employed   \n",
       "...     ...   ...           ...           ...          ...            ...   \n",
       "5105      1  80.0             1             0            1        Private   \n",
       "5106      1  81.0             0             0            1  Self-employed   \n",
       "5107      1  35.0             0             0            1  Self-employed   \n",
       "5108      0  51.0             0             0            1        Private   \n",
       "5109      1  44.0             0             0            1       Govt_job   \n",
       "\n",
       "      residenceType  avgGlucoseLevel        bmi    smokingStatus  stroke  \n",
       "0                 0           228.69  36.600000  formerly smoked       1  \n",
       "1                 1           202.21  28.893237     never smoked       1  \n",
       "2                 1           105.92  32.500000     never smoked       1  \n",
       "3                 0           171.23  34.400000           smokes       1  \n",
       "4                 1           174.12  24.000000     never smoked       1  \n",
       "...             ...              ...        ...              ...     ...  \n",
       "5105              0            83.75  28.893237     never smoked       0  \n",
       "5106              0           125.20  40.000000     never smoked       0  \n",
       "5107              1            82.99  30.600000     never smoked       0  \n",
       "5108              1           166.29  25.600000  formerly smoked       0  \n",
       "5109              0            85.28  26.200000          Unknown       0  \n",
       "\n",
       "[5109 rows x 11 columns]"
      ]
     },
     "execution_count": 71,
     "metadata": {},
     "output_type": "execute_result"
    }
   ],
   "source": [
    "df"
   ]
  },
  {
   "cell_type": "code",
   "execution_count": 72,
   "metadata": {},
   "outputs": [
    {
     "name": "stderr",
     "output_type": "stream",
     "text": [
      "C:\\Users\\jpake\\anaconda3\\envs\\learn-env\\lib\\site-packages\\category_encoders\\utils.py:21: FutureWarning: is_categorical is deprecated and will be removed in a future version.  Use is_categorical_dtype instead\n",
      "  elif pd.api.types.is_categorical(cols):\n"
     ]
    }
   ],
   "source": [
    "#Data Prep\n",
    "\n",
    "#Scales my data\n",
    "scaler = StandardScaler()\n",
    "#Ecoder to categorize onto cols 'workType' and 'smokingStatus'\n",
    "encoder = ce.CountEncoder(cols = ['workType', 'smokingStatus'])\n",
    "\n",
    "xCols = [c for c in df.columns.to_list() if c not in ['stroke']]\n",
    "\n",
    "x = df[xCols]\n",
    "y = df['stroke']\n",
    "\n",
    "xTrain, xTest, yTrain, yTest = train_test_split(\n",
    "    x, y, test_size=0.33, random_state=42)\n",
    "\n",
    "xTrainEncoded = encoder.fit_transform(xTrain)\n",
    "xTestEncoded = encoder.transform(xTest)\n",
    "\n",
    "xTrainScaled = scaler.fit_transform(xTrainEncoded)\n",
    "xTestScaled = scaler.transform(xTestEncoded)"
   ]
  },
  {
   "cell_type": "code",
   "execution_count": 73,
   "metadata": {},
   "outputs": [
    {
     "name": "stdout",
     "output_type": "stream",
     "text": [
      "Accuracy Train Score: 0.7449605609114811\n",
      "Accuracy Test Score: 0.7354685646500593\n",
      "-----\n",
      "F1-Train Score: 0.22399999999999998\n",
      "F1-Test Score: 0.24915824915824913\n",
      "-----\n",
      "Precision Train Score: 0.12962962962962962\n",
      "Precision Test Score: 0.14859437751004015\n",
      "-----\n",
      "Recall Train Score: 0.8235294117647058\n",
      "Recall Test Score: 0.7708333333333334\n",
      "-----\n",
      "0 is \"Not at risk of a stroke\"\n",
      "1 is \"At risk of a stroke\"\n"
     ]
    },
    {
     "data": {
      "image/png": "[encoded data removed]",
      "text/plain": [
       "<Figure size 432x288 with 2 Axes>"
      ]
     },
     "metadata": {
      "needs_background": "light"
     },
     "output_type": "display_data"
    }
   ],
   "source": [
    "from sklearn.linear_model import LogisticRegression\n",
    "\n",
    "logReg = LogisticRegression(random_state = 123, class_weight = 'balanced')\n",
    "logReg.fit(xTrainScaled, yTrain)\n",
    "\n",
    "yPredTrain = logReg.predict(xTrainScaled)\n",
    "yPredTest = logReg.predict(xTestScaled)\n",
    "\n",
    "plot_confusion_matrix(logReg, xTestScaled, yTest)\n",
    "\n",
    "print(f\"Accuracy Train Score: {accuracy_score(yTrain, yPredTrain)}\")\n",
    "print(f\"Accuracy Test Score: {accuracy_score(yTest, yPredTest)}\")\n",
    "print('-----')\n",
    "print(f\"F1-Train Score: {f1_score(yTrain, yPredTrain)}\")\n",
    "print(f\"F1-Test Score: {f1_score(yTest, yPredTest)}\")\n",
    "print('-----')\n",
    "print(f\"Precision Train Score: {precision_score(yTrain, yPredTrain)}\")\n",
    "print(f\"Precision Test Score: {precision_score(yTest, yPredTest)}\")\n",
    "print('-----')\n",
    "print(f\"Recall Train Score: {recall_score(yTrain, yPredTrain)}\")\n",
    "print(f\"Recall Test Score: {recall_score(yTest, yPredTest)}\")\n",
    "print('-----')\n",
    "print('0 is \"Not at risk of a stroke\"')\n",
    "print('1 is \"At risk of a stroke\"')"
   ]
  },
  {
   "cell_type": "code",
   "execution_count": 74,
   "metadata": {},
   "outputs": [
    {
     "name": "stdout",
     "output_type": "stream",
     "text": [
      "Accuracy Train Score: 0.8051416885772714\n",
      "Accuracy Test Score: 0.7823250296559905\n",
      "-----\n",
      "F1-Train Score: 0.2866310160427808\n",
      "F1-Test Score: 0.2525458248472505\n",
      "-----\n",
      "Precision Train Score: 0.17135549872122763\n",
      "Precision Test Score: 0.1569620253164557\n",
      "-----\n",
      "Recall Train Score: 0.8758169934640523\n",
      "Recall Test Score: 0.6458333333333334\n",
      "-----\n",
      "0 is \"Not at risk of a stroke\"\n",
      "1 is \"At risk of a stroke\"\n"
     ]
    },
    {
     "data": {
      "image/png": "[encoded data removed]",
      "text/plain": [
       "<Figure size 432x288 with 2 Axes>"
      ]
     },
     "metadata": {
      "needs_background": "light"
     },
     "output_type": "display_data"
    }
   ],
   "source": [
    "from sklearn.svm import SVC\n",
    "\n",
    "clf = SVC(random_state=0, class_weight = 'balanced')\n",
    "clf.fit(xTrainScaled, yTrain)\n",
    "\n",
    "yPredTrain = clf.predict(xTrainScaled)\n",
    "yPredTest = clf.predict(xTestScaled)\n",
    "\n",
    "plot_confusion_matrix(clf, xTestScaled, yTest)\n",
    "\n",
    "print(f\"Accuracy Train Score: {accuracy_score(yTrain, yPredTrain)}\")\n",
    "print(f\"Accuracy Test Score: {accuracy_score(yTest, yPredTest)}\")\n",
    "print('-----')\n",
    "print(f\"F1-Train Score: {f1_score(yTrain, yPredTrain)}\")\n",
    "print(f\"F1-Test Score: {f1_score(yTest, yPredTest)}\")\n",
    "print('-----')\n",
    "print(f\"Precision Train Score: {precision_score(yTrain, yPredTrain)}\")\n",
    "print(f\"Precision Test Score: {precision_score(yTest, yPredTest)}\")\n",
    "print('-----')\n",
    "print(f\"Recall Train Score: {recall_score(yTrain, yPredTrain)}\")\n",
    "print(f\"Recall Test Score: {recall_score(yTest, yPredTest)}\")\n",
    "print('-----')\n",
    "print('0 is \"Not at risk of a stroke\"')\n",
    "print('1 is \"At risk of a stroke\"')"
   ]
  },
  {
   "cell_type": "code",
   "execution_count": 75,
   "metadata": {},
   "outputs": [
    {
     "name": "stdout",
     "output_type": "stream",
     "text": [
      "Accuracy Train Score: 0.8740870581361379\n",
      "Accuracy Test Score: 0.8606168446026097\n",
      "-----\n",
      "F1-Train Score: 0.21493624772313297\n",
      "F1-Test Score: 0.24920127795527158\n",
      "-----\n",
      "Average Precision Train Score: 0.14898989898989898\n",
      "Average Precision Test Score: 0.17972350230414746\n",
      "-----\n",
      "Recall Train Score: 0.38562091503267976\n",
      "Recall Test Score: 0.40625\n",
      "-----\n",
      "0 is \"Not at risk of a stroke\"\n",
      "1 is \"At risk of a stroke\"\n"
     ]
    },
    {
     "data": {
      "image/png": "[encoded data removed]",
      "text/plain": [
       "<Figure size 432x288 with 2 Axes>"
      ]
     },
     "metadata": {
      "needs_background": "light"
     },
     "output_type": "display_data"
    }
   ],
   "source": [
    "from sklearn.naive_bayes import GaussianNB\n",
    "\n",
    "gauNB = GaussianNB()\n",
    "gauNB.fit(xTrainScaled, yTrain)\n",
    "\n",
    "yPredTrain = gauNB.predict(xTrainScaled)\n",
    "yPredTest = gauNB.predict(xTestScaled)\n",
    "\n",
    "plot_confusion_matrix(gauNB, xTestScaled, yTest)\n",
    "\n",
    "print(f\"Accuracy Train Score: {accuracy_score(yTrain, yPredTrain)}\")\n",
    "print(f\"Accuracy Test Score: {accuracy_score(yTest, yPredTest)}\")\n",
    "print('-----')\n",
    "print(f\"F1-Train Score: {f1_score(yTrain, yPredTrain)}\")\n",
    "print(f\"F1-Test Score: {f1_score(yTest, yPredTest)}\")\n",
    "print('-----')\n",
    "print(f\"Average Precision Train Score: {precision_score(yTrain, yPredTrain)}\")\n",
    "print(f\"Average Precision Test Score: {precision_score(yTest, yPredTest)}\")\n",
    "print('-----')\n",
    "print(f\"Recall Train Score: {recall_score(yTrain, yPredTrain)}\")\n",
    "print(f\"Recall Test Score: {recall_score(yTest, yPredTest)}\")\n",
    "print('-----')\n",
    "print('0 is \"Not at risk of a stroke\"')\n",
    "print('1 is \"At risk of a stroke\"')"
   ]
  },
  {
   "cell_type": "code",
   "execution_count": 76,
   "metadata": {},
   "outputs": [
    {
     "name": "stdout",
     "output_type": "stream",
     "text": [
      "Accuracy Train Score: 1.0\n",
      "Accuracy Test Score: 0.9157769869513642\n",
      "-----\n",
      "F1-Train Score: 1.0\n",
      "F1-Test Score: 0.15476190476190474\n",
      "-----\n",
      "Average Precision Train Score: 1.0\n",
      "Average Precision Test Score: 0.18055555555555555\n",
      "-----\n",
      "Recall Train Score: 1.0\n",
      "Recall Test Score: 0.13541666666666666\n",
      "-----\n",
      "0 is \"Not at risk of a stroke\"\n",
      "1 is \"At risk of a stroke\"\n"
     ]
    },
    {
     "data": {
      "image/png": "[encoded data removed]",
      "text/plain": [
       "<Figure size 432x288 with 2 Axes>"
      ]
     },
     "metadata": {
      "needs_background": "light"
     },
     "output_type": "display_data"
    }
   ],
   "source": [
    "from sklearn.tree import DecisionTreeClassifier\n",
    "decTree = DecisionTreeClassifier(class_weight='balanced')\n",
    "\n",
    "decTree.fit(xTrainScaled, yTrain)\n",
    "\n",
    "yPredTrain = decTree.predict(xTrainScaled)\n",
    "yPredTest = decTree.predict(xTestScaled)\n",
    "\n",
    "plot_confusion_matrix(decTree, xTestScaled, yTest)\n",
    "\n",
    "print(f\"Accuracy Train Score: {accuracy_score(yTrain, yPredTrain)}\")\n",
    "print(f\"Accuracy Test Score: {accuracy_score(yTest, yPredTest)}\")\n",
    "print('-----')\n",
    "print(f\"F1-Train Score: {f1_score(yTrain, yPredTrain)}\")\n",
    "print(f\"F1-Test Score: {f1_score(yTest, yPredTest)}\")\n",
    "print('-----')\n",
    "print(f\"Average Precision Train Score: {precision_score(yTrain, yPredTrain)}\")\n",
    "print(f\"Average Precision Test Score: {precision_score(yTest, yPredTest)}\")\n",
    "print('-----')\n",
    "print(f\"Recall Train Score: {recall_score(yTrain, yPredTrain)}\")\n",
    "print(f\"Recall Test Score: {recall_score(yTest, yPredTest)}\")\n",
    "print('-----')\n",
    "print('0 is \"Not at risk of a stroke\"')\n",
    "print('1 is \"At risk of a stroke\"')"
   ]
  },
  {
   "cell_type": "code",
   "execution_count": 77,
   "metadata": {},
   "outputs": [
    {
     "name": "stdout",
     "output_type": "stream",
     "text": [
      "Accuracy Train Score: 1.0\n",
      "Accuracy Test Score: 0.9430604982206405\n",
      "-----\n",
      "F1-Train Score: 1.0\n",
      "F1-Test Score: 0.0\n",
      "-----\n",
      "Average Precision Train Score: 1.0\n",
      "Average Precision Test Score: 0.0\n",
      "-----\n",
      "Recall Train Score: 1.0\n",
      "Recall Test Score: 0.0\n",
      "-----\n",
      "0 is \"Not at risk of a stroke\"\n",
      "1 is \"At risk of a stroke\"\n"
     ]
    },
    {
     "name": "stderr",
     "output_type": "stream",
     "text": [
      "C:\\Users\\jpake\\anaconda3\\envs\\learn-env\\lib\\site-packages\\sklearn\\metrics\\_classification.py:1221: UndefinedMetricWarning: Precision is ill-defined and being set to 0.0 due to no predicted samples. Use `zero_division` parameter to control this behavior.\n",
      "  _warn_prf(average, modifier, msg_start, len(result))\n"
     ]
    },
    {
     "data": {
      "image/png": "[encoded data removed]",
      "text/plain": [
       "<Figure size 432x288 with 2 Axes>"
      ]
     },
     "metadata": {
      "needs_background": "light"
     },
     "output_type": "display_data"
    }
   ],
   "source": [
    "from sklearn.ensemble import RandomForestClassifier\n",
    "rngForest = RandomForestClassifier(class_weight='balanced')\n",
    "\n",
    "rngForest.fit(xTrainScaled, yTrain)\n",
    "\n",
    "yPredTrain = rngForest.predict(xTrainScaled)\n",
    "yPredTest = rngForest.predict(xTestScaled)\n",
    "\n",
    "plot_confusion_matrix(rngForest, xTestScaled, yTest)\n",
    "\n",
    "print(f\"Accuracy Train Score: {accuracy_score(yTrain, yPredTrain)}\")\n",
    "print(f\"Accuracy Test Score: {accuracy_score(yTest, yPredTest)}\")\n",
    "print('-----')\n",
    "print(f\"F1-Train Score: {f1_score(yTrain, yPredTrain)}\")\n",
    "print(f\"F1-Test Score: {f1_score(yTest, yPredTest)}\")\n",
    "print('-----')\n",
    "print(f\"Average Precision Train Score: {precision_score(yTrain, yPredTrain)}\")\n",
    "print(f\"Average Precision Test Score: {precision_score(yTest, yPredTest)}\")\n",
    "print('-----')\n",
    "print(f\"Recall Train Score: {recall_score(yTrain, yPredTrain)}\")\n",
    "print(f\"Recall Test Score: {recall_score(yTest, yPredTest)}\")\n",
    "print('-----')\n",
    "print('0 is \"Not at risk of a stroke\"')\n",
    "print('1 is \"At risk of a stroke\"')"
   ]
  },
  {
   "cell_type": "code",
   "execution_count": 78,
   "metadata": {
    "scrolled": true
   },
   "outputs": [
    {
     "data": {
      "text/plain": [
       "0    4860\n",
       "1     249\n",
       "Name: stroke, dtype: int64"
      ]
     },
     "execution_count": 78,
     "metadata": {},
     "output_type": "execute_result"
    }
   ],
   "source": [
    "df['stroke'].value_counts()"
   ]
  },
  {
   "cell_type": "code",
   "execution_count": 79,
   "metadata": {},
   "outputs": [
    {
     "data": {
      "text/plain": [
       "19.518072289156628"
      ]
     },
     "execution_count": 79,
     "metadata": {},
     "output_type": "execute_result"
    }
   ],
   "source": [
    "#XGBClassifier doesn't have a function to automatically balance imbalanced\n",
    "#datasets so we need to find out what number to give as the weight.\n",
    "#scale_pos_weight = total_negative_examples (not stroke) / total_positive_examples (stroke)\n",
    "4860/249"
   ]
  },
  {
   "cell_type": "code",
   "execution_count": 80,
   "metadata": {},
   "outputs": [
    {
     "name": "stdout",
     "output_type": "stream",
     "text": [
      "Accuracy Train Score: 0.9997078586035641\n",
      "Accuracy Test Score: 0.928232502965599\n",
      "-----\n",
      "F1-Train Score: 0.9967426710097721\n",
      "F1-Test Score: 0.18791946308724836\n",
      "-----\n",
      "Average Precision Train Score: 0.9935064935064936\n",
      "Average Precision Test Score: 0.2641509433962264\n",
      "-----\n",
      "Recall Train Score: 1.0\n",
      "Recall Test Score: 0.14583333333333334\n",
      "-----\n",
      "0 is \"Not at risk of a stroke\"\n",
      "1 is \"At risk of a stroke\"\n"
     ]
    },
    {
     "data": {
      "image/png": "[encoded data removed]",
      "text/plain": [
       "<Figure size 432x288 with 2 Axes>"
      ]
     },
     "metadata": {
      "needs_background": "light"
     },
     "output_type": "display_data"
    }
   ],
   "source": [
    "import xgboost as xgb\n",
    "xgbClass = xgb.XGBClassifier(scale_pos_weight = 19.518072289156628)\n",
    "\n",
    "xgbClass.fit(xTrainScaled, yTrain)\n",
    "\n",
    "yPredTrain = xgbClass.predict(xTrainScaled)\n",
    "yPredTest = xgbClass.predict(xTestScaled)\n",
    "\n",
    "plot_confusion_matrix(xgbClass, xTestScaled, yTest)\n",
    "\n",
    "print(f\"Accuracy Train Score: {accuracy_score(yTrain, yPredTrain)}\")\n",
    "print(f\"Accuracy Test Score: {accuracy_score(yTest, yPredTest)}\")\n",
    "print('-----')\n",
    "print(f\"F1-Train Score: {f1_score(yTrain, yPredTrain)}\")\n",
    "print(f\"F1-Test Score: {f1_score(yTest, yPredTest)}\")\n",
    "print('-----')\n",
    "print(f\"Average Precision Train Score: {precision_score(yTrain, yPredTrain)}\")\n",
    "print(f\"Average Precision Test Score: {precision_score(yTest, yPredTest)}\")\n",
    "print('-----')\n",
    "print(f\"Recall Train Score: {recall_score(yTrain, yPredTrain)}\")\n",
    "print(f\"Recall Test Score: {recall_score(yTest, yPredTest)}\")\n",
    "print('-----')\n",
    "print('0 is \"Not at risk of a stroke\"')\n",
    "print('1 is \"At risk of a stroke\"')"
   ]
  },
  {
   "cell_type": "markdown",
   "metadata": {},
   "source": [
    "Moving forward after experimenting with a few different model types, I've chosen RandomForestClassifier. Using a decision tree model as apposed to a regression model fits with this data better as most of the data in this set seems to be mostly binary, with a few acceptions. As for Specifically RandomForestClassifier as apposed to say XGBClassification, while XGBC did seem to have a better score result due to learning the data better, RandomForestClassifier's documentaiton was more descriptive and lended itself better to be run multitudes of times to inch closer to a more accurate model."
   ]
  },
  {
   "cell_type": "markdown",
   "metadata": {},
   "source": [
    "# Model 1: Commitment to RandomForestClassifier\n",
    "\n",
    "Time for feature engineering with RandomForestClassifier! Let's make a second model for this and name it something different for, just for the sake of oganization."
   ]
  },
  {
   "cell_type": "code",
   "execution_count": 81,
   "metadata": {},
   "outputs": [
    {
     "name": "stdout",
     "output_type": "stream",
     "text": [
      "Accuracy Train Score: 0.8445807770961146\n",
      "Accuracy Test Score: 0.8309608540925267\n",
      "-----\n",
      "F1-Train Score: 0.22222222222222224\n",
      "F1-Test Score: 0.23592493297587133\n",
      "-----\n",
      "Average Precision Train Score: 0.1431261770244821\n",
      "Average Precision Test Score: 0.1588447653429603\n",
      "-----\n",
      "Recall Train Score: 0.49673202614379086\n",
      "Recall Test Score: 0.4583333333333333\n"
     ]
    },
    {
     "data": {
      "image/png": "[encoded data removed]",
      "text/plain": [
       "<Figure size 432x288 with 2 Axes>"
      ]
     },
     "metadata": {
      "needs_background": "light"
     },
     "output_type": "display_data"
    }
   ],
   "source": [
    "rngForest2 = RandomForestClassifier(class_weight='balanced',\n",
    "                                    max_depth=None,\n",
    "                                    n_estimators=100,\n",
    "                                    min_samples_split=20,\n",
    "                                    min_samples_leaf=20,\n",
    "                                    min_weight_fraction_leaf=0.497,\n",
    "                                    random_state = 123,\n",
    "                                    max_features = 'auto',\n",
    "                                    max_leaf_nodes = 100,\n",
    "                                    min_impurity_decrease = 0,\n",
    "                                    n_jobs = 1000\n",
    "                                    )\n",
    "\n",
    "rngForest2.fit(xTrainScaled, yTrain)\n",
    "\n",
    "yPredTrain = rngForest2.predict(xTrainScaled)\n",
    "yPredTest = rngForest2.predict(xTestScaled)\n",
    "\n",
    "plot_confusion_matrix(rngForest2, xTestScaled, yTest)\n",
    "# The bellow text field is only for grabbing images, doesn't need to be run every time\n",
    "# plt.savefig('images/Models/Model1.png')\n",
    "\n",
    "print(f\"Accuracy Train Score: {accuracy_score(yTrain, yPredTrain)}\")\n",
    "print(f\"Accuracy Test Score: {accuracy_score(yTest, yPredTest)}\")\n",
    "print('-----')\n",
    "print(f\"F1-Train Score: {f1_score(yTrain, yPredTrain)}\")\n",
    "print(f\"F1-Test Score: {f1_score(yTest, yPredTest)}\")\n",
    "print('-----')\n",
    "print(f\"Average Precision Train Score: {precision_score(yTrain, yPredTrain)}\")\n",
    "print(f\"Average Precision Test Score: {precision_score(yTest, yPredTest)}\")\n",
    "print('-----')\n",
    "print(f\"Recall Train Score: {recall_score(yTrain, yPredTrain)}\")\n",
    "print(f\"Recall Test Score: {recall_score(yTest, yPredTest)}\")"
   ]
  },
  {
   "cell_type": "markdown",
   "metadata": {},
   "source": [
    "So, as we've seen already our test model is dramatically too over fit and doesn't learn the data well. The above model is the result of maticulously itterating through each parameter in RandomForestClassifier and inching towards a more properly fit model."
   ]
  },
  {
   "cell_type": "code",
   "execution_count": 82,
   "metadata": {},
   "outputs": [
    {
     "data": {
      "image/png": "[encoded data removed]",
      "text/plain": [
       "<Figure size 432x288 with 1 Axes>"
      ]
     },
     "metadata": {
      "needs_background": "light"
     },
     "output_type": "display_data"
    },
    {
     "data": {
      "image/png": "[encoded data removed]",
      "text/plain": [
       "<Figure size 432x288 with 1 Axes>"
      ]
     },
     "metadata": {
      "needs_background": "light"
     },
     "output_type": "display_data"
    },
    {
     "data": {
      "image/png": "[encoded data removed]",
      "text/plain": [
       "<Figure size 432x288 with 1 Axes>"
      ]
     },
     "metadata": {
      "needs_background": "light"
     },
     "output_type": "display_data"
    },
    {
     "data": {
      "image/png": "[encoded data removed]",
      "text/plain": [
       "<Figure size 432x288 with 1 Axes>"
      ]
     },
     "metadata": {
      "needs_background": "light"
     },
     "output_type": "display_data"
    },
    {
     "data": {
      "image/png": "[encoded data removed]",
      "text/plain": [
       "<Figure size 432x288 with 1 Axes>"
      ]
     },
     "metadata": {
      "needs_background": "light"
     },
     "output_type": "display_data"
    },
    {
     "data": {
      "image/png": "[encoded data removed]",
      "text/plain": [
       "<Figure size 432x288 with 1 Axes>"
      ]
     },
     "metadata": {
      "needs_background": "light"
     },
     "output_type": "display_data"
    },
    {
     "data": {
      "image/png": "[encoded data removed]",
      "text/plain": [
       "<Figure size 432x288 with 1 Axes>"
      ]
     },
     "metadata": {
      "needs_background": "light"
     },
     "output_type": "display_data"
    },
    {
     "data": {
      "text/plain": [
       "<Figure size 432x288 with 0 Axes>"
      ]
     },
     "metadata": {},
     "output_type": "display_data"
    }
   ],
   "source": [
    "import matplotlib.pyplot as plt\n",
    "\n",
    "disCols = [c for c in df.columns.to_list() if c not in ['stroke', 'age', 'avgGlucoseLevel', 'bmi']]\n",
    "\n",
    "\n",
    "for x in disCols:\n",
    "    sns.barplot(x = df[x], y = df['age'], hue = df['stroke'])\n",
    "    plt.title(f'Age Vs. {x} categorized by Stroke')\n",
    "    plt.xlabel(x)\n",
    "    plt.ylabel('Age')\n",
    "    plt.title('Stroke Categorization')\n",
    "    # The bellow text field is only for grabbing images, doesn't need to be run every time\n",
    "    # plt.savefig(f'images/ageImages/Age Vs. {x} categorized by Stroke.png')\n",
    "    plt.show()\n",
    "    plt.clf()"
   ]
  },
  {
   "cell_type": "code",
   "execution_count": 83,
   "metadata": {},
   "outputs": [
    {
     "data": {
      "image/png": "[encoded data removed]",
      "text/plain": [
       "<Figure size 432x288 with 1 Axes>"
      ]
     },
     "metadata": {
      "needs_background": "light"
     },
     "output_type": "display_data"
    },
    {
     "data": {
      "image/png": "[encoded data removed]",
      "text/plain": [
       "<Figure size 432x288 with 1 Axes>"
      ]
     },
     "metadata": {
      "needs_background": "light"
     },
     "output_type": "display_data"
    },
    {
     "data": {
      "image/png": "[encoded data removed]",
      "text/plain": [
       "<Figure size 432x288 with 1 Axes>"
      ]
     },
     "metadata": {
      "needs_background": "light"
     },
     "output_type": "display_data"
    },
    {
     "data": {
      "image/png": "[encoded data removed]",
      "text/plain": [
       "<Figure size 432x288 with 1 Axes>"
      ]
     },
     "metadata": {
      "needs_background": "light"
     },
     "output_type": "display_data"
    },
    {
     "data": {
      "image/png": "[encoded data removed]",
      "text/plain": [
       "<Figure size 432x288 with 1 Axes>"
      ]
     },
     "metadata": {
      "needs_background": "light"
     },
     "output_type": "display_data"
    },
    {
     "data": {
      "image/png": "[encoded data removed]",
      "text/plain": [
       "<Figure size 432x288 with 1 Axes>"
      ]
     },
     "metadata": {
      "needs_background": "light"
     },
     "output_type": "display_data"
    },
    {
     "data": {
      "image/png": "[encoded data removed]",
      "text/plain": [
       "<Figure size 432x288 with 1 Axes>"
      ]
     },
     "metadata": {
      "needs_background": "light"
     },
     "output_type": "display_data"
    },
    {
     "data": {
      "text/plain": [
       "<Figure size 432x288 with 0 Axes>"
      ]
     },
     "metadata": {},
     "output_type": "display_data"
    }
   ],
   "source": [
    "for x in disCols:\n",
    "    sns.barplot(x = df[x], y = df['avgGlucoseLevel'], hue = df['stroke'])\n",
    "    plt.title(f'avgGlucoseLevel Vs. {x} categorized by Stroke')\n",
    "    plt.xlabel(x)\n",
    "    plt.ylabel('avgGlucoseLevel')\n",
    "    plt.title('Stroke Categorization')\n",
    "    # The bellow text field is only for grabbing images, doesn't need to be run every time\n",
    "    # plt.savefig(f'images/avgGlucoseLevelImages/avgGlucoseLevel Vs. {x} categorized by Stroke.png')\n",
    "    plt.show()\n",
    "    plt.clf()"
   ]
  },
  {
   "cell_type": "code",
   "execution_count": 84,
   "metadata": {},
   "outputs": [
    {
     "data": {
      "image/png": "[encoded data removed]",
      "text/plain": [
       "<Figure size 432x288 with 1 Axes>"
      ]
     },
     "metadata": {
      "needs_background": "light"
     },
     "output_type": "display_data"
    },
    {
     "data": {
      "image/png": "[encoded data removed]",
      "text/plain": [
       "<Figure size 432x288 with 1 Axes>"
      ]
     },
     "metadata": {
      "needs_background": "light"
     },
     "output_type": "display_data"
    },
    {
     "data": {
      "image/png": "[encoded data removed]",
      "text/plain": [
       "<Figure size 432x288 with 1 Axes>"
      ]
     },
     "metadata": {
      "needs_background": "light"
     },
     "output_type": "display_data"
    },
    {
     "data": {
      "image/png": "[encoded data removed]",
      "text/plain": [
       "<Figure size 432x288 with 1 Axes>"
      ]
     },
     "metadata": {
      "needs_background": "light"
     },
     "output_type": "display_data"
    },
    {
     "data": {
      "image/png": "[encoded data removed]",
      "text/plain": [
       "<Figure size 432x288 with 1 Axes>"
      ]
     },
     "metadata": {
      "needs_background": "light"
     },
     "output_type": "display_data"
    },
    {
     "data": {
      "image/png": "[encoded data removed]",
      "text/plain": [
       "<Figure size 432x288 with 1 Axes>"
      ]
     },
     "metadata": {
      "needs_background": "light"
     },
     "output_type": "display_data"
    },
    {
     "data": {
      "image/png": "[encoded data removed]",
      "text/plain": [
       "<Figure size 432x288 with 1 Axes>"
      ]
     },
     "metadata": {
      "needs_background": "light"
     },
     "output_type": "display_data"
    },
    {
     "data": {
      "text/plain": [
       "<Figure size 432x288 with 0 Axes>"
      ]
     },
     "metadata": {},
     "output_type": "display_data"
    }
   ],
   "source": [
    "for x in disCols:\n",
    "    sns.barplot(x = df[x], y = df['bmi'], hue = df['stroke'])\n",
    "    plt.title(f'BMI Vs. {x} categorized by Stroke')\n",
    "    plt.xlabel(x)\n",
    "    plt.ylabel('BMI')\n",
    "    plt.title('Stroke Categorization')\n",
    "    # The bellow text field is only for grabbing images, doesn't need to be run every time\n",
    "    # plt.savefig(f'images/bmiImages/BMI Vs. {x} categorized by Stroke.png')\n",
    "    plt.show()\n",
    "    plt.clf()"
   ]
  },
  {
   "cell_type": "code",
   "execution_count": 85,
   "metadata": {
    "scrolled": false
   },
   "outputs": [
    {
     "name": "stdout",
     "output_type": "stream",
     "text": [
      "gender 0.0\n",
      "age 0.24242424242424243\n",
      "hypertension 0.0\n",
      "heartDisease 0.0\n",
      "everMarried 0.0\n",
      "workType 0.0\n",
      "residenceType 0.0\n",
      "avgGlucoseLevel 0.7272727272727273\n",
      "bmi 0.030303030303030304\n",
      "smokingStatus 0.0\n"
     ]
    }
   ],
   "source": [
    "# Returns a list of most important features\n",
    "y = 0\n",
    "while y < 10:\n",
    "    imp = rngForest2.feature_importances_\n",
    "    var = [x for x in xCols]\n",
    "    print(var[y], imp[y])\n",
    "    y+=1"
   ]
  },
  {
   "cell_type": "markdown",
   "metadata": {},
   "source": [
    "avgGlucoseLevel looks like it has the biggest impact on health so lets take a closer look ath that."
   ]
  },
  {
   "cell_type": "code",
   "execution_count": 86,
   "metadata": {},
   "outputs": [],
   "source": [
    "strokeDF = df[(df['stroke'] == 1)]\n",
    "strokeDF \n",
    "notStrokeDF = df[(df['stroke'] == 0)]"
   ]
  },
  {
   "cell_type": "code",
   "execution_count": 87,
   "metadata": {},
   "outputs": [
    {
     "data": {
      "image/png": "[encoded data removed]",
      "text/plain": [
       "<Figure size 432x288 with 1 Axes>"
      ]
     },
     "metadata": {
      "needs_background": "light"
     },
     "output_type": "display_data"
    },
    {
     "data": {
      "image/png": "[encoded data removed]",
      "text/plain": [
       "<Figure size 432x288 with 1 Axes>"
      ]
     },
     "metadata": {
      "needs_background": "light"
     },
     "output_type": "display_data"
    },
    {
     "data": {
      "text/plain": [
       "<Figure size 432x288 with 0 Axes>"
      ]
     },
     "metadata": {},
     "output_type": "display_data"
    }
   ],
   "source": [
    "sns.scatterplot(x = df.avgGlucoseLevel[df.stroke == 0], y = df.bmi[df.stroke==0])\n",
    "sns.scatterplot(x = df.avgGlucoseLevel[df.stroke == 1], y = df.bmi[df.stroke==1])\n",
    "plt.legend(['No Stroke', 'Stroke'])\n",
    "# The bellow text field is only for grabbing images, doesn't need to be run every time\n",
    "plt.savefig(f'images/futureWorkExamples/bmi_vs_avgGlucoseLevel.png')\n",
    "plt.show()\n",
    "plt.clf()\n",
    "\n",
    "sns.scatterplot(x = df.age[df.stroke == 0], y = df.bmi[df.stroke==0])\n",
    "sns.scatterplot(x = df.age[df.stroke == 1], y = df.bmi[df.stroke==1])\n",
    "plt.legend(['No Stroke', 'Stroke'])\n",
    "# The bellow text field is only for grabbing images, doesn't need to be run every time\n",
    "plt.savefig(f'images/futureWorkExamples/bmi_vs_age.png')\n",
    "plt.show()\n",
    "plt.clf()"
   ]
  },
  {
   "cell_type": "code",
   "execution_count": 88,
   "metadata": {},
   "outputs": [
    {
     "name": "stdout",
     "output_type": "stream",
     "text": [
      "strokesAgeFilters: 2\n",
      "strokesAgeAll: 249\n",
      "% of number of strokes above the age of 30: 99.19678714859438%\n"
     ]
    }
   ],
   "source": [
    "age = 30\n",
    "strokeAge = strokeDF[(strokeDF['age'] < age)]\n",
    "strokesAgeFilters = strokeAge.age.value_counts().sum()\n",
    "strokesAgeAll = strokeDF.age.value_counts().sum()\n",
    "print(f'strokesAgeFilters: {strokesAgeFilters}')\n",
    "print(f'strokesAgeAll: {strokesAgeAll}')\n",
    "print(f'% of number of strokes above the age of {age}: {(((strokesAgeFilters/strokesAgeAll)*100)-100)*-1}%')"
   ]
  },
  {
   "cell_type": "markdown",
   "metadata": {},
   "source": [
    "# Model 2: Gridsearch"
   ]
  },
  {
   "cell_type": "markdown",
   "metadata": {},
   "source": [
    "While model 1 was a good 'quick and dirty' start, using GridSearchCV will bring us as close as possible to making the an accurate model by using machine learning to run multiple models to find the best possible combination of hyperparameters."
   ]
  },
  {
   "cell_type": "code",
   "execution_count": null,
   "metadata": {},
   "outputs": [
    {
     "name": "stderr",
     "output_type": "stream",
     "text": [
      "Exception in thread Thread-24002:\n",
      "Traceback (most recent call last):\n",
      "  File \"C:\\Users\\jpake\\anaconda3\\envs\\learn-env\\lib\\threading.py\", line 932, in _bootstrap_inner\n",
      "    self.run()\n",
      "  File \"C:\\Users\\jpake\\anaconda3\\envs\\learn-env\\lib\\site-packages\\joblib\\externals\\loky\\process_executor.py\", line 555, in run\n",
      "    result_item, is_broken, bpe = self.wait_result_broken_or_wakeup()\n",
      "  File \"C:\\Users\\jpake\\anaconda3\\envs\\learn-env\\lib\\site-packages\\joblib\\externals\\loky\\process_executor.py\", line 609, in wait_result_broken_or_wakeup\n",
      "    ready = wait(readers + worker_sentinels)\n",
      "  File \"C:\\Users\\jpake\\anaconda3\\envs\\learn-env\\lib\\multiprocessing\\connection.py\", line 879, in wait\n",
      "    ready_handles = _exhaustive_wait(waithandle_to_obj.keys(), timeout)\n",
      "  File \"C:\\Users\\jpake\\anaconda3\\envs\\learn-env\\lib\\multiprocessing\\connection.py\", line 811, in _exhaustive_wait\n",
      "    res = _winapi.WaitForMultipleObjects(L, False, timeout)\n",
      "ValueError: need at most 63 handles, got a sequence of length 101\n"
     ]
    }
   ],
   "source": [
    "from sklearn.model_selection import GridSearchCV\n",
    "\n",
    "rngForest3 = RandomForestClassifier()\n",
    "\n",
    "param = {'max_depth': [5, 10],\n",
    "         'min_samples_split': [10, 20], \n",
    "         'class_weight': ['balanced_subsample', 'balanced'],\n",
    "         'n_estimators': [100,  500],\n",
    "         'min_samples_split': [10, 20],\n",
    "         'min_samples_leaf': [10, 20],\n",
    "         'n_jobs': [100, 500],\n",
    "         'min_weight_fraction_leaf': [.1, .2, .3, .4, .497]}\n",
    "scoring = ('recall', 'accuracy')\n",
    "clf = GridSearchCV(rngForest3,\n",
    "                   param, \n",
    "                   scoring=scoring, refit = 'recall')\n",
    "\n",
    "clf.fit(xTrainScaled, yTrain)"
   ]
  },
  {
   "cell_type": "code",
   "execution_count": 103,
   "metadata": {},
   "outputs": [
    {
     "name": "stdout",
     "output_type": "stream",
     "text": [
      "Accuracy Train Score: 0.6792287467134093\n",
      "Accuracy Test Score: 0.6702253855278766\n",
      "-----\n",
      "F1-Train Score: 0.19970845481049562\n",
      "F1-Test Score: 0.22562674094707522\n",
      "-----\n",
      "Average Precision Train Score: 0.11238720262510254\n",
      "Average Precision Test Score: 0.1302250803858521\n",
      "-----\n",
      "Recall Train Score: 0.8954248366013072\n",
      "Recall Test Score: 0.84375\n"
     ]
    },
    {
     "data": {
      "image/png": "[encoded data removed]",
      "text/plain": [
       "<Figure size 432x288 with 2 Axes>"
      ]
     },
     "metadata": {
      "needs_background": "light"
     },
     "output_type": "display_data"
    }
   ],
   "source": [
    "bestEst = clf.best_estimator_\n",
    "\n",
    "yPredTrain = bestEst.predict(xTrainScaled)\n",
    "yPredTest = bestEst.predict(xTestScaled)\n",
    "\n",
    "plot_confusion_matrix(bestEst, xTestScaled, yTest)\n",
    "# The bellow text field is only for grabbing images, doesn't need to be run every time\n",
    "# plt.savefig('images/Models/Model1.png')\n",
    "\n",
    "print(f\"Accuracy Train Score: {accuracy_score(yTrain, yPredTrain)}\")\n",
    "print(f\"Accuracy Test Score: {accuracy_score(yTest, yPredTest)}\")\n",
    "print('-----')\n",
    "print(f\"F1-Train Score: {f1_score(yTrain, yPredTrain)}\")\n",
    "print(f\"F1-Test Score: {f1_score(yTest, yPredTest)}\")\n",
    "print('-----')\n",
    "print(f\"Average Precision Train Score: {precision_score(yTrain, yPredTrain)}\")\n",
    "print(f\"Average Precision Test Score: {precision_score(yTest, yPredTest)}\")\n",
    "print('-----')\n",
    "print(f\"Recall Train Score: {recall_score(yTrain, yPredTrain)}\")\n",
    "print(f\"Recall Test Score: {recall_score(yTest, yPredTest)}\")"
   ]
  },
  {
   "cell_type": "code",
   "execution_count": 89,
   "metadata": {},
   "outputs": [
    {
     "data": {
      "text/html": [
       "<div>\n",
       "<style scoped>\n",
       "    .dataframe tbody tr th:only-of-type {\n",
       "        vertical-align: middle;\n",
       "    }\n",
       "\n",
       "    .dataframe tbody tr th {\n",
       "        vertical-align: top;\n",
       "    }\n",
       "\n",
       "    .dataframe thead th {\n",
       "        text-align: right;\n",
       "    }\n",
       "</style>\n",
       "<table border=\"1\" class=\"dataframe\">\n",
       "  <thead>\n",
       "    <tr style=\"text-align: right;\">\n",
       "      <th></th>\n",
       "      <th>age</th>\n",
       "      <th>hypertension</th>\n",
       "      <th>heartDisease</th>\n",
       "      <th>everMarried</th>\n",
       "      <th>residenceType</th>\n",
       "      <th>avgGlucoseLevel</th>\n",
       "      <th>bmi</th>\n",
       "      <th>stroke</th>\n",
       "    </tr>\n",
       "  </thead>\n",
       "  <tbody>\n",
       "    <tr>\n",
       "      <th>count</th>\n",
       "      <td>5109.000000</td>\n",
       "      <td>5109.000000</td>\n",
       "      <td>5109.000000</td>\n",
       "      <td>5109.000000</td>\n",
       "      <td>5109.000000</td>\n",
       "      <td>5109.000000</td>\n",
       "      <td>5109.000000</td>\n",
       "      <td>5109.000000</td>\n",
       "    </tr>\n",
       "    <tr>\n",
       "      <th>mean</th>\n",
       "      <td>43.229986</td>\n",
       "      <td>0.097475</td>\n",
       "      <td>0.054022</td>\n",
       "      <td>0.656293</td>\n",
       "      <td>0.491877</td>\n",
       "      <td>106.140399</td>\n",
       "      <td>28.894508</td>\n",
       "      <td>0.048738</td>\n",
       "    </tr>\n",
       "    <tr>\n",
       "      <th>std</th>\n",
       "      <td>22.613575</td>\n",
       "      <td>0.296633</td>\n",
       "      <td>0.226084</td>\n",
       "      <td>0.474991</td>\n",
       "      <td>0.499983</td>\n",
       "      <td>45.285004</td>\n",
       "      <td>7.698235</td>\n",
       "      <td>0.215340</td>\n",
       "    </tr>\n",
       "    <tr>\n",
       "      <th>min</th>\n",
       "      <td>0.080000</td>\n",
       "      <td>0.000000</td>\n",
       "      <td>0.000000</td>\n",
       "      <td>0.000000</td>\n",
       "      <td>0.000000</td>\n",
       "      <td>55.120000</td>\n",
       "      <td>10.300000</td>\n",
       "      <td>0.000000</td>\n",
       "    </tr>\n",
       "    <tr>\n",
       "      <th>25%</th>\n",
       "      <td>25.000000</td>\n",
       "      <td>0.000000</td>\n",
       "      <td>0.000000</td>\n",
       "      <td>0.000000</td>\n",
       "      <td>0.000000</td>\n",
       "      <td>77.240000</td>\n",
       "      <td>23.800000</td>\n",
       "      <td>0.000000</td>\n",
       "    </tr>\n",
       "    <tr>\n",
       "      <th>50%</th>\n",
       "      <td>45.000000</td>\n",
       "      <td>0.000000</td>\n",
       "      <td>0.000000</td>\n",
       "      <td>1.000000</td>\n",
       "      <td>0.000000</td>\n",
       "      <td>91.880000</td>\n",
       "      <td>28.400000</td>\n",
       "      <td>0.000000</td>\n",
       "    </tr>\n",
       "    <tr>\n",
       "      <th>75%</th>\n",
       "      <td>61.000000</td>\n",
       "      <td>0.000000</td>\n",
       "      <td>0.000000</td>\n",
       "      <td>1.000000</td>\n",
       "      <td>1.000000</td>\n",
       "      <td>114.090000</td>\n",
       "      <td>32.800000</td>\n",
       "      <td>0.000000</td>\n",
       "    </tr>\n",
       "    <tr>\n",
       "      <th>max</th>\n",
       "      <td>82.000000</td>\n",
       "      <td>1.000000</td>\n",
       "      <td>1.000000</td>\n",
       "      <td>1.000000</td>\n",
       "      <td>1.000000</td>\n",
       "      <td>271.740000</td>\n",
       "      <td>97.600000</td>\n",
       "      <td>1.000000</td>\n",
       "    </tr>\n",
       "  </tbody>\n",
       "</table>\n",
       "</div>"
      ],
      "text/plain": [
       "               age  hypertension  heartDisease  everMarried  residenceType  \\\n",
       "count  5109.000000   5109.000000   5109.000000  5109.000000    5109.000000   \n",
       "mean     43.229986      0.097475      0.054022     0.656293       0.491877   \n",
       "std      22.613575      0.296633      0.226084     0.474991       0.499983   \n",
       "min       0.080000      0.000000      0.000000     0.000000       0.000000   \n",
       "25%      25.000000      0.000000      0.000000     0.000000       0.000000   \n",
       "50%      45.000000      0.000000      0.000000     1.000000       0.000000   \n",
       "75%      61.000000      0.000000      0.000000     1.000000       1.000000   \n",
       "max      82.000000      1.000000      1.000000     1.000000       1.000000   \n",
       "\n",
       "       avgGlucoseLevel          bmi       stroke  \n",
       "count      5109.000000  5109.000000  5109.000000  \n",
       "mean        106.140399    28.894508     0.048738  \n",
       "std          45.285004     7.698235     0.215340  \n",
       "min          55.120000    10.300000     0.000000  \n",
       "25%          77.240000    23.800000     0.000000  \n",
       "50%          91.880000    28.400000     0.000000  \n",
       "75%         114.090000    32.800000     0.000000  \n",
       "max         271.740000    97.600000     1.000000  "
      ]
     },
     "execution_count": 89,
     "metadata": {},
     "output_type": "execute_result"
    }
   ],
   "source": [
    "df.describe()"
   ]
  },
  {
   "cell_type": "markdown",
   "metadata": {},
   "source": [
    "After playing around with the features for a while, I've settled on this for the moment. This seems to be the sweet spot in the overall accuracy of my model. Though it wasn't the highest percentile score I was able to acheive, it has the msot minimal false negative predicitons. In the case of predicting someone health and the amount of medical attention, it's better to over predicit if someone needs help than to underpredict it."
   ]
  },
  {
   "cell_type": "markdown",
   "metadata": {},
   "source": [
    "This model will essentially:\n",
    " - Predict 84.4% if a patient will or will not be at risk of a stroke correctly.\n",
    " - Only a minimal Aprox. 3.1% of patients predicted to be 'not at risk' will be misdiagnosed\n",
    " - Model has been made to air on the side of caution and over predict risk as opposed to underpredict."
   ]
  },
  {
   "cell_type": "markdown",
   "metadata": {},
   "source": [
    "The use case I see this model being most useful for is for family phasicians and general practitioners having a way knowing if the patients they receive are at risk of a stroke being onset later in life. This model can be used for a new patient or garnering a list of current patients inorder to service them better. Calls can be made on behalf of the practitioners to inform patients that they may be at risk and a check up/consultation may be in benefitial."
   ]
  },
  {
   "cell_type": "markdown",
   "metadata": {},
   "source": [
    "It should also be noted that while this model can be made to be more accurate be reducing the ranges that the model can predict on (such as only including date on patients over the age of 30) this is ultimately unwise due to the nature of medicine and the targeted use case for this model being general practitioners. Being that General practitioners see all body types from all walks of life, cherry picking patient information would be self desrtuctive."
   ]
  }
 ],
 "metadata": {
  "kernelspec": {
   "display_name": "learn-env",
   "language": "python",
   "name": "learn-env"
  },
  "language_info": {
   "codemirror_mode": {
    "name": "ipython",
    "version": 3
   },
   "file_extension": ".py",
   "mimetype": "text/x-python",
   "name": "python",
   "nbconvert_exporter": "python",
   "pygments_lexer": "ipython3",
   "version": "3.8.5"
  }
 },
 "nbformat": 4,
 "nbformat_minor": 4
}
